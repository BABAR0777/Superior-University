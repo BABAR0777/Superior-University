{
 "cells": [
  {
   "cell_type": "code",
   "execution_count": 2,
   "metadata": {},
   "outputs": [
    {
     "name": "stdout",
     "output_type": "stream",
     "text": [
      "The optimal value is : 12\n",
      "3.0\n"
     ]
    }
   ],
   "source": [
    "import math\n",
    "def minimax (curr, node, maxTurn, scores, target):\n",
    "    if (curr == target): \n",
    "        return scores[node]\n",
    "    if (maxTurn):\n",
    "        return max(minimax(curr + 1, node * 2, False, scores, target), \n",
    "                   minimax(curr + 1, node * 2 + 1, False, scores, target))\n",
    "    else:\n",
    "        return min(minimax(curr + 1, node * 2, True, scores, target), \n",
    "                   minimax(curr + 1, node * 2 + 1, True, scores, target))\n",
    "\n",
    "\n"
   ]
  },
  {
   "cell_type": "code",
   "execution_count": 12,
   "metadata": {},
   "outputs": [
    {
     "name": "stdout",
     "output_type": "stream",
     "text": [
      "The optimal value is : 22\n",
      "3.0\n"
     ]
    }
   ],
   "source": [
    "scores = [4, 5, 2, 9, 55, 12, 22, 13]\n",
    "tree = math.log(len(scores), 2)\n",
    "\n",
    "print(\"The optimal value is : \", end = \"\")\n",
    "print(minimax(0, 0, True, scores, tree))\n",
    "print(tree)"
   ]
  },
  {
   "cell_type": "code",
   "execution_count": null,
   "metadata": {},
   "outputs": [],
   "source": []
  }
 ],
 "metadata": {
  "kernelspec": {
   "display_name": "Python 3",
   "language": "python",
   "name": "python3"
  },
  "language_info": {
   "codemirror_mode": {
    "name": "ipython",
    "version": 3
   },
   "file_extension": ".py",
   "mimetype": "text/x-python",
   "name": "python",
   "nbconvert_exporter": "python",
   "pygments_lexer": "ipython3",
   "version": "3.12.5"
  }
 },
 "nbformat": 4,
 "nbformat_minor": 2
}
