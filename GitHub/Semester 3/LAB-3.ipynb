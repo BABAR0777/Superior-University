{
 "cells": [
  {
   "cell_type": "code",
   "execution_count": 4,
   "metadata": {},
   "outputs": [
    {
     "name": "stdout",
     "output_type": "stream",
     "text": [
      "Current temperature of Living Room = 18°C. Turn on heater.\n",
      "Current temperature of Bedroom = 22°C. Turn off heater.\n",
      "Current temperature of Kitchen = 20°C. Turn on heater.\n",
      "Current temperature of Bathroom = 24°C. Turn off heater.\n"
     ]
    }
   ],
   "source": [
    "class ModelBasedReflexAgent:\n",
    "    def __init__(self, desired_temperature,previous_action):\n",
    "        self.desired_temperature = desired_temperature\n",
    "        self.previous_action = None\n",
    "\n",
    "    def perceive(self, current_temperature):\n",
    "        return current_temperature\n",
    "\n",
    "    def act(self, current_temperature,previous_action):\n",
    "        if self.previous_action is None:\n",
    "            if current_temperature < self.desired_temperature:\n",
    "                action = \"Turn on heater\"\n",
    "            else:\n",
    "                action = \"Turn off heater\"\n",
    "        else:\n",
    "            if current_temperature < self.desired_temperature and self.previous_action != \"Turn on heater\":\n",
    "                action = \"Turn on heater\"\n",
    "            elif current_temperature >= self.desired_temperature and self.previous_action != \"Turn off heater\":\n",
    "                action = \"Turn off heater\"\n",
    "            else:\n",
    "                action = \"No action\"\n",
    "        self.previous_action = action\n",
    "        return action\n",
    "rooms = {\n",
    "    \"Living Room\": 18,\n",
    "    \"Bedroom\": 22,\n",
    "    \"Kitchen\": 20,\n",
    "    \"Bathroom\": 24\n",
    "}\n",
    "desired_temperature = 22\n",
    "agent = ModelBasedReflexAgent(desired_temperature,\"Turn off heater\")\n",
    "\n",
    "for room, temperature in rooms.items():\n",
    "    action = agent.act(temperature,\"Turn off heater\")\n",
    "    print(f\"Current temperature of {room} = {temperature}°C. {action}.\")"
   ]
  },
  {
   "cell_type": "code",
   "execution_count": null,
   "metadata": {},
   "outputs": [],
   "source": []
  }
 ],
 "metadata": {
  "kernelspec": {
   "display_name": "Python 3",
   "language": "python",
   "name": "python3"
  },
  "language_info": {
   "codemirror_mode": {
    "name": "ipython",
    "version": 3
   },
   "file_extension": ".py",
   "mimetype": "text/x-python",
   "name": "python",
   "nbconvert_exporter": "python",
   "pygments_lexer": "ipython3",
   "version": "3.12.5"
  }
 },
 "nbformat": 4,
 "nbformat_minor": 2
}
