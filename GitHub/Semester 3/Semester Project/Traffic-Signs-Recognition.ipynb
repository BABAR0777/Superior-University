{
 "cells": [
  {
   "cell_type": "code",
   "execution_count": 1,
   "metadata": {},
   "outputs": [],
   "source": [
    "# Importing necessary libraries and modules\n",
    "\n",
    "import numpy as np  # NumPy for numerical operations and handling arrays\n",
    "import matplotlib.pyplot as plt  # Matplotlib for plotting and visualizations\n",
    "from keras.models import Sequential  # Sequential model for building neural networks\n",
    "from keras.layers import Dense  # Dense layer for fully connected neural networks\n",
    "from keras.optimizers import Adam  # Adam optimizer for training the model\n",
    "from keras.utils import to_categorical  # Utility for one-hot encoding class labels\n",
    "from keras.layers import Dropout, Flatten  # Dropout layer for regularization and Flatten layer to convert 2D to 1D\n",
    "from keras.layers import Conv2D, MaxPooling2D  # Convolutional and pooling layers for CNNs\n",
    "from keras.models import load_model  # Function to load a pre-trained model from disk\n",
    "import cv2  # OpenCV for image processing tasks\n",
    "from sklearn.model_selection import train_test_split  # Utility to split datasets into training and testing sets\n",
    "import pickle  # Module for serializing and deserializing Python objects (e.g., saving models)\n",
    "import os  # Module for interacting with the operating system (e.g., file paths)\n",
    "import pandas as pd  # Pandas for data manipulation and analysis with DataFrames\n",
    "from tensorflow.keras.preprocessing.image import ImageDataGenerator  # Class for real-time data augmentation of images"
   ]
  },
  {
   "cell_type": "code",
   "execution_count": 2,
   "metadata": {},
   "outputs": [
    {
     "name": "stdout",
     "output_type": "stream",
     "text": [
      "Total Classes Detected: 43\n",
      "Importing Classes.....\n",
      "0 1 2 3 4 5 6 7 8 9 10 11 12 13 14 15 16 17 18 19 20 21 22 23 24 25 26 27 28 29 30 31 32 33 34 35 36 37 38 39 40 41 42  \n"
     ]
    }
   ],
   "source": [
    "# Define the path to the dataset and label file\n",
    "path = \"Dataset\"  # Directory containing the image classes\n",
    "labelFile = 'labels.csv'  # CSV file containing labels for the images\n",
    "\n",
    "# Set parameters for training\n",
    "batch_size_val = 32  # Number of samples per gradient update\n",
    "epochs_val = 10  # Number of epochs to train the model\n",
    "imageDimesions = (32, 32, 3)  # Dimensions of the input images (height, width, channels)\n",
    "testRatio = 0.2  # Ratio of the dataset to be used for testing\n",
    "validationRatio = 0.2  # Ratio of the training dataset to be used for validation\n",
    "\n",
    "# Initialize counters and lists to store images and their corresponding class numbers\n",
    "count = 0  # Class counter\n",
    "images = []  # List to store images\n",
    "classNo = []  # List to store class numbers corresponding to the images\n",
    "\n",
    "# List all subdirectories (classes) in the dataset directory\n",
    "myList = os.listdir(path)  # Get a list of all classes (subdirectories) in the dataset\n",
    "print(\"Total Classes Detected:\", len(myList))  # Print the number of classes detected\n",
    "noOfClasses = len(myList)  # Store the number of classes\n",
    "\n",
    "print(\"Importing Classes.....\")  # Indicate the start of class importing\n",
    "# Loop through each class directory\n",
    "for x in range(0, len(myList)):\n",
    "    myPicList = os.listdir(path + \"/\" + str(count))  # List all images in the current class directory\n",
    "    # Loop through each image in the current class directory\n",
    "    for y in myPicList:\n",
    "        curImg = cv2.imread(path + \"/\" + str(count) + \"/\" + y)  # Read the current image\n",
    "        images.append(curImg)  # Append the image to the images list\n",
    "        classNo.append(count)  # Append the class number to the classNo list\n",
    "    print(count, end=\" \")  # Print the current class number\n",
    "    count += 1  # Increment the class counter\n",
    "\n",
    "print(\" \")  # Print a newline for better readability\n",
    "\n",
    "# Convert the lists of images and class numbers to NumPy arrays for further processing\n",
    "images = np.array(images)  # Convert images list to a NumPy array\n",
    "classNo = np.array(classNo)  # Convert classNo list to a NumPy array"
   ]
  },
  {
   "cell_type": "code",
   "execution_count": 3,
   "metadata": {},
   "outputs": [
    {
     "name": "stdout",
     "output_type": "stream",
     "text": [
      "Data Shapes\n",
      "Train(22271, 32, 32, 3) (22271,)\n",
      "Validation(5568, 32, 32, 3) (5568,)\n",
      "Test(6960, 32, 32, 3) (6960,)\n"
     ]
    }
   ],
   "source": [
    "# Split the dataset into training and testing sets\n",
    "# The test set will be a portion of the images and their corresponding class numbers\n",
    "X_train, X_test, y_train, y_test = train_test_split(images, classNo, test_size=testRatio)\n",
    "# Further split the training set into training and validation sets\n",
    "# The validation set will be a portion of the training data used to tune the model\n",
    "X_train, X_validation, y_train, y_validation = train_test_split(X_train, y_train, test_size=validationRatio)\n",
    "\n",
    "# Print the shapes of the resulting datasets for verification\n",
    "print(\"Data Shapes\")  # Indicate that data shapes will be printed\n",
    "print(\"Train\", end=\"\")  # Print 'Train' without a newline\n",
    "print(X_train.shape, y_train.shape)  # Print the shape of training images and labels\n",
    "print(\"Validation\", end=\"\")  # Print 'Validation' without a newline\n",
    "print(X_validation.shape, y_validation.shape)  # Print the shape of validation images and labels\n",
    "print(\"Test\", end=\"\")  # Print 'Test' without a newline\n",
    "print(X_test.shape, y_test.shape)  # Print the shape of test images and labels"
   ]
  },
  {
   "cell_type": "code",
   "execution_count": 4,
   "metadata": {},
   "outputs": [
    {
     "name": "stdout",
     "output_type": "stream",
     "text": [
      "data shape  (43, 2) <class 'pandas.core.frame.DataFrame'>\n"
     ]
    }
   ],
   "source": [
    "# Load the labels from the CSV file into a DataFrame\n",
    "data = pd.read_csv(labelFile)  # Read the labels from the specified CSV file\n",
    "print(\"data shape \", data.shape, type(data))  # Print the shape and type of the DataFrame\n",
    "\n",
    "# Initialize a list to store the number of samples for each class\n",
    "num_of_samples = []  # List to hold the number of samples per class\n",
    "cols = 5  # Number of columns for displaying images (not used in this snippet)\n",
    "num_classes = noOfClasses  # Total number of classes detected\n",
    "\n",
    "# Function to convert an image to grayscale\n",
    "def grayscale(img):\n",
    "    img = cv2.cvtColor(img, cv2.COLOR_BGR2GRAY)  # Convert the image from BGR to grayscale\n",
    "    return img  # Return the grayscale image\n",
    "\n",
    "# Function to equalize the histogram of an image\n",
    "def equalize(img):\n",
    "    img = cv2.equalizeHist(img)  # Apply histogram equalization to improve contrast\n",
    "    return img  # Return the equalized image\n",
    "\n",
    "# Function to preprocess an image\n",
    "def preprocessing(img):\n",
    "    img = grayscale(img)  # Convert the image to grayscale\n",
    "    img = equalize(img)  # Equalize the histogram of the grayscale image\n",
    "    img = img / 255  # Normalize the pixel values to the range [0, 1]\n",
    "    return img  # Return the preprocessed image"
   ]
  },
  {
   "cell_type": "code",
   "execution_count": null,
   "metadata": {},
   "outputs": [],
   "source": [
    "# Apply the preprocessing function to each image in the training, validation, and test sets\n",
    "# The preprocessing function converts images to grayscale, equalizes them, and normalizes pixel values\n",
    "X_train = np.array(list(map(preprocessing, X_train)))  # Preprocess all training images\n",
    "X_validation = np.array(list(map(preprocessing, X_validation)))  # Preprocess all validation images\n",
    "X_test = np.array(list(map(preprocessing, X_test)))  # Preprocess all test images\n",
    "\n",
    "# Reshape the training, validation, and test sets to add a channel dimension for compatibility with the model\n",
    "# The new shape will be (number of samples, height, width, channels)\n",
    "\n",
    "X_train = X_train.reshape(X_train.shape[0], X_train.shape[1], X_train.shape[2], 1)  # Reshape training images\n",
    "X_validation = X_validation.reshape(X_validation.shape[0], X_validation.shape[1], X_validation.shape[2], 1)  # Reshape validation images\n",
    "X_test = X_test.reshape(X_test.shape[0], X_test.shape[1], X_test.shape[2], 1)  # Reshape test images"
   ]
  },
  {
   "cell_type": "code",
   "execution_count": 6,
   "metadata": {},
   "outputs": [],
   "source": [
    "# Create an instance of the ImageDataGenerator class for data augmentation\n",
    "dataGen = ImageDataGenerator(\n",
    "    width_shift_range=0.1,      # Randomly shift images horizontally by 10% of the width\n",
    "    height_shift_range=0.1,     # Randomly shift images vertically by 10% of the height\n",
    "    zoom_range=0.2,             # Randomly zoom in on images by up to 20%\n",
    "    shear_range=0.1,            # Randomly apply shear transformations by 10%\n",
    "    rotation_range=10           # Randomly rotate images by up to 10 degrees\n",
    ")\n",
    "\n",
    "# Fit the data generator to the training data\n",
    "dataGen.fit(X_train)  # This computes the necessary statistics (like mean and std) for the training data\n",
    "\n",
    "# Create batches of augmented data from the training set\n",
    "batches = dataGen.flow(X_train, y_train, batch_size=20)  # Generate batches of 20 samples\n",
    "\n",
    "# Get the next batch of images and their corresponding labels\n",
    "X_batch, y_batch = next(batches)  # Retrieve one batch of augmented data"
   ]
  },
  {
   "cell_type": "code",
   "execution_count": 7,
   "metadata": {},
   "outputs": [],
   "source": [
    "# Convert the class labels for the training, validation, and test sets to one-hot encoded format\n",
    "y_train = to_categorical(y_train, noOfClasses)  # Convert training labels to one-hot encoding\n",
    "y_validation = to_categorical(y_validation, noOfClasses)  # Convert validation labels to one-hot encoding\n",
    "y_test = to_categorical(y_test, noOfClasses)  # Convert test labels to one-hot encoding"
   ]
  },
  {
   "cell_type": "code",
   "execution_count": null,
   "metadata": {},
   "outputs": [],
   "source": [
    "def myModel():\n",
    "    # Initialize a sequential model\n",
    "    model = Sequential()\n",
    "    # Add the first convolutional layer with 60 filters, each of size 5x5\n",
    "    # The input shape is defined as (height, width, channels), where channels is 1 for grayscale images\n",
    "    model.add((Conv2D(60, (5, 5), input_shape=(imageDimesions[0], imageDimesions[1], 1), activation='relu')))\n",
    "    # Add a second convolutional layer with 60 filters of size 5x5\n",
    "    model.add((Conv2D(60, (5, 5), activation='relu')))\n",
    "    # Add a max pooling layer to downsample the feature maps\n",
    "    model.add(MaxPooling2D(pool_size=(2, 2)))\n",
    "    # Add a third convolutional layer with 30 filters of size 3x3\n",
    "    model.add((Conv2D(30, (3, 3), activation='relu')))\n",
    "    # Add a fourth convolutional layer with 30 filters of size 3x3\n",
    "    model.add((Conv2D(30, (3, 3), activation='relu')))\n",
    "    # Add another max pooling layer to further downsample the feature maps\n",
    "    model.add(MaxPooling2D(pool_size=(2, 2)))\n",
    "    # Add a dropout layer to reduce overfitting by randomly setting 50% of the input units to 0\n",
    "    model.add(Dropout(0.5))\n",
    "    # Flatten the output from the previous layer to feed into the dense layer\n",
    "    model.add(Flatten())\n",
    "    # Add a fully connected (dense) layer with 500 units and ReLU activation\n",
    "    model.add(Dense(500, activation='relu'))\n",
    "    # Add another dropout layer to reduce overfitting\n",
    "    model.add(Dropout(0.5))\n",
    "    # Add the output layer with a number of units equal to the number of classes and softmax activation\n",
    "    model.add(Dense(noOfClasses, activation='softmax'))\n",
    "    # Compile the model with Adam optimizer, categorical crossentropy loss, and accuracy as a metric\n",
    "    model.compile(Adam(learning_rate=0.001), loss='categorical_crossentropy', metrics=['accuracy'])\n",
    "    # Return the constructed model\n",
    "    return model"
   ]
  },
  {
   "cell_type": "code",
   "execution_count": null,
   "metadata": {},
   "outputs": [
    {
     "name": "stderr",
     "output_type": "stream",
     "text": [
      "c:\\Users\\BABAR\\AppData\\Local\\Programs\\Python\\Python312\\Lib\\site-packages\\keras\\src\\layers\\convolutional\\base_conv.py:107: UserWarning: Do not pass an `input_shape`/`input_dim` argument to a layer. When using Sequential models, prefer using an `Input(shape)` object as the first layer in the model instead.\n",
      "  super().__init__(activity_regularizer=activity_regularizer, **kwargs)\n"
     ]
    },
    {
     "data": {
      "text/html": [
       "<pre style=\"white-space:pre;overflow-x:auto;line-height:normal;font-family:Menlo,'DejaVu Sans Mono',consolas,'Courier New',monospace\"><span style=\"font-weight: bold\">Model: \"sequential\"</span>\n",
       "</pre>\n"
      ],
      "text/plain": [
       "\u001b[1mModel: \"sequential\"\u001b[0m\n"
      ]
     },
     "metadata": {},
     "output_type": "display_data"
    },
    {
     "data": {
      "text/html": [
       "<pre style=\"white-space:pre;overflow-x:auto;line-height:normal;font-family:Menlo,'DejaVu Sans Mono',consolas,'Courier New',monospace\">┏━━━━━━━━━━━━━━━━━━━━━━━━━━━━━━━━━┳━━━━━━━━━━━━━━━━━━━━━━━━┳━━━━━━━━━━━━━━━┓\n",
       "┃<span style=\"font-weight: bold\"> Layer (type)                    </span>┃<span style=\"font-weight: bold\"> Output Shape           </span>┃<span style=\"font-weight: bold\">       Param # </span>┃\n",
       "┡━━━━━━━━━━━━━━━━━━━━━━━━━━━━━━━━━╇━━━━━━━━━━━━━━━━━━━━━━━━╇━━━━━━━━━━━━━━━┩\n",
       "│ conv2d (<span style=\"color: #0087ff; text-decoration-color: #0087ff\">Conv2D</span>)                 │ (<span style=\"color: #00d7ff; text-decoration-color: #00d7ff\">None</span>, <span style=\"color: #00af00; text-decoration-color: #00af00\">28</span>, <span style=\"color: #00af00; text-decoration-color: #00af00\">28</span>, <span style=\"color: #00af00; text-decoration-color: #00af00\">60</span>)     │         <span style=\"color: #00af00; text-decoration-color: #00af00\">1,560</span> │\n",
       "├─────────────────────────────────┼────────────────────────┼───────────────┤\n",
       "│ conv2d_1 (<span style=\"color: #0087ff; text-decoration-color: #0087ff\">Conv2D</span>)               │ (<span style=\"color: #00d7ff; text-decoration-color: #00d7ff\">None</span>, <span style=\"color: #00af00; text-decoration-color: #00af00\">24</span>, <span style=\"color: #00af00; text-decoration-color: #00af00\">24</span>, <span style=\"color: #00af00; text-decoration-color: #00af00\">60</span>)     │        <span style=\"color: #00af00; text-decoration-color: #00af00\">90,060</span> │\n",
       "├─────────────────────────────────┼────────────────────────┼───────────────┤\n",
       "│ max_pooling2d (<span style=\"color: #0087ff; text-decoration-color: #0087ff\">MaxPooling2D</span>)    │ (<span style=\"color: #00d7ff; text-decoration-color: #00d7ff\">None</span>, <span style=\"color: #00af00; text-decoration-color: #00af00\">12</span>, <span style=\"color: #00af00; text-decoration-color: #00af00\">12</span>, <span style=\"color: #00af00; text-decoration-color: #00af00\">60</span>)     │             <span style=\"color: #00af00; text-decoration-color: #00af00\">0</span> │\n",
       "├─────────────────────────────────┼────────────────────────┼───────────────┤\n",
       "│ conv2d_2 (<span style=\"color: #0087ff; text-decoration-color: #0087ff\">Conv2D</span>)               │ (<span style=\"color: #00d7ff; text-decoration-color: #00d7ff\">None</span>, <span style=\"color: #00af00; text-decoration-color: #00af00\">10</span>, <span style=\"color: #00af00; text-decoration-color: #00af00\">10</span>, <span style=\"color: #00af00; text-decoration-color: #00af00\">30</span>)     │        <span style=\"color: #00af00; text-decoration-color: #00af00\">16,230</span> │\n",
       "├─────────────────────────────────┼────────────────────────┼───────────────┤\n",
       "│ conv2d_3 (<span style=\"color: #0087ff; text-decoration-color: #0087ff\">Conv2D</span>)               │ (<span style=\"color: #00d7ff; text-decoration-color: #00d7ff\">None</span>, <span style=\"color: #00af00; text-decoration-color: #00af00\">8</span>, <span style=\"color: #00af00; text-decoration-color: #00af00\">8</span>, <span style=\"color: #00af00; text-decoration-color: #00af00\">30</span>)       │         <span style=\"color: #00af00; text-decoration-color: #00af00\">8,130</span> │\n",
       "├─────────────────────────────────┼────────────────────────┼───────────────┤\n",
       "│ max_pooling2d_1 (<span style=\"color: #0087ff; text-decoration-color: #0087ff\">MaxPooling2D</span>)  │ (<span style=\"color: #00d7ff; text-decoration-color: #00d7ff\">None</span>, <span style=\"color: #00af00; text-decoration-color: #00af00\">4</span>, <span style=\"color: #00af00; text-decoration-color: #00af00\">4</span>, <span style=\"color: #00af00; text-decoration-color: #00af00\">30</span>)       │             <span style=\"color: #00af00; text-decoration-color: #00af00\">0</span> │\n",
       "├─────────────────────────────────┼────────────────────────┼───────────────┤\n",
       "│ dropout (<span style=\"color: #0087ff; text-decoration-color: #0087ff\">Dropout</span>)               │ (<span style=\"color: #00d7ff; text-decoration-color: #00d7ff\">None</span>, <span style=\"color: #00af00; text-decoration-color: #00af00\">4</span>, <span style=\"color: #00af00; text-decoration-color: #00af00\">4</span>, <span style=\"color: #00af00; text-decoration-color: #00af00\">30</span>)       │             <span style=\"color: #00af00; text-decoration-color: #00af00\">0</span> │\n",
       "├─────────────────────────────────┼────────────────────────┼───────────────┤\n",
       "│ flatten (<span style=\"color: #0087ff; text-decoration-color: #0087ff\">Flatten</span>)               │ (<span style=\"color: #00d7ff; text-decoration-color: #00d7ff\">None</span>, <span style=\"color: #00af00; text-decoration-color: #00af00\">480</span>)            │             <span style=\"color: #00af00; text-decoration-color: #00af00\">0</span> │\n",
       "├─────────────────────────────────┼────────────────────────┼───────────────┤\n",
       "│ dense (<span style=\"color: #0087ff; text-decoration-color: #0087ff\">Dense</span>)                   │ (<span style=\"color: #00d7ff; text-decoration-color: #00d7ff\">None</span>, <span style=\"color: #00af00; text-decoration-color: #00af00\">500</span>)            │       <span style=\"color: #00af00; text-decoration-color: #00af00\">240,500</span> │\n",
       "├─────────────────────────────────┼────────────────────────┼───────────────┤\n",
       "│ dropout_1 (<span style=\"color: #0087ff; text-decoration-color: #0087ff\">Dropout</span>)             │ (<span style=\"color: #00d7ff; text-decoration-color: #00d7ff\">None</span>, <span style=\"color: #00af00; text-decoration-color: #00af00\">500</span>)            │             <span style=\"color: #00af00; text-decoration-color: #00af00\">0</span> │\n",
       "├─────────────────────────────────┼────────────────────────┼───────────────┤\n",
       "│ dense_1 (<span style=\"color: #0087ff; text-decoration-color: #0087ff\">Dense</span>)                 │ (<span style=\"color: #00d7ff; text-decoration-color: #00d7ff\">None</span>, <span style=\"color: #00af00; text-decoration-color: #00af00\">43</span>)             │        <span style=\"color: #00af00; text-decoration-color: #00af00\">21,543</span> │\n",
       "└─────────────────────────────────┴────────────────────────┴───────────────┘\n",
       "</pre>\n"
      ],
      "text/plain": [
       "┏━━━━━━━━━━━━━━━━━━━━━━━━━━━━━━━━━┳━━━━━━━━━━━━━━━━━━━━━━━━┳━━━━━━━━━━━━━━━┓\n",
       "┃\u001b[1m \u001b[0m\u001b[1mLayer (type)                   \u001b[0m\u001b[1m \u001b[0m┃\u001b[1m \u001b[0m\u001b[1mOutput Shape          \u001b[0m\u001b[1m \u001b[0m┃\u001b[1m \u001b[0m\u001b[1m      Param #\u001b[0m\u001b[1m \u001b[0m┃\n",
       "┡━━━━━━━━━━━━━━━━━━━━━━━━━━━━━━━━━╇━━━━━━━━━━━━━━━━━━━━━━━━╇━━━━━━━━━━━━━━━┩\n",
       "│ conv2d (\u001b[38;5;33mConv2D\u001b[0m)                 │ (\u001b[38;5;45mNone\u001b[0m, \u001b[38;5;34m28\u001b[0m, \u001b[38;5;34m28\u001b[0m, \u001b[38;5;34m60\u001b[0m)     │         \u001b[38;5;34m1,560\u001b[0m │\n",
       "├─────────────────────────────────┼────────────────────────┼───────────────┤\n",
       "│ conv2d_1 (\u001b[38;5;33mConv2D\u001b[0m)               │ (\u001b[38;5;45mNone\u001b[0m, \u001b[38;5;34m24\u001b[0m, \u001b[38;5;34m24\u001b[0m, \u001b[38;5;34m60\u001b[0m)     │        \u001b[38;5;34m90,060\u001b[0m │\n",
       "├─────────────────────────────────┼────────────────────────┼───────────────┤\n",
       "│ max_pooling2d (\u001b[38;5;33mMaxPooling2D\u001b[0m)    │ (\u001b[38;5;45mNone\u001b[0m, \u001b[38;5;34m12\u001b[0m, \u001b[38;5;34m12\u001b[0m, \u001b[38;5;34m60\u001b[0m)     │             \u001b[38;5;34m0\u001b[0m │\n",
       "├─────────────────────────────────┼────────────────────────┼───────────────┤\n",
       "│ conv2d_2 (\u001b[38;5;33mConv2D\u001b[0m)               │ (\u001b[38;5;45mNone\u001b[0m, \u001b[38;5;34m10\u001b[0m, \u001b[38;5;34m10\u001b[0m, \u001b[38;5;34m30\u001b[0m)     │        \u001b[38;5;34m16,230\u001b[0m │\n",
       "├─────────────────────────────────┼────────────────────────┼───────────────┤\n",
       "│ conv2d_3 (\u001b[38;5;33mConv2D\u001b[0m)               │ (\u001b[38;5;45mNone\u001b[0m, \u001b[38;5;34m8\u001b[0m, \u001b[38;5;34m8\u001b[0m, \u001b[38;5;34m30\u001b[0m)       │         \u001b[38;5;34m8,130\u001b[0m │\n",
       "├─────────────────────────────────┼────────────────────────┼───────────────┤\n",
       "│ max_pooling2d_1 (\u001b[38;5;33mMaxPooling2D\u001b[0m)  │ (\u001b[38;5;45mNone\u001b[0m, \u001b[38;5;34m4\u001b[0m, \u001b[38;5;34m4\u001b[0m, \u001b[38;5;34m30\u001b[0m)       │             \u001b[38;5;34m0\u001b[0m │\n",
       "├─────────────────────────────────┼────────────────────────┼───────────────┤\n",
       "│ dropout (\u001b[38;5;33mDropout\u001b[0m)               │ (\u001b[38;5;45mNone\u001b[0m, \u001b[38;5;34m4\u001b[0m, \u001b[38;5;34m4\u001b[0m, \u001b[38;5;34m30\u001b[0m)       │             \u001b[38;5;34m0\u001b[0m │\n",
       "├─────────────────────────────────┼────────────────────────┼───────────────┤\n",
       "│ flatten (\u001b[38;5;33mFlatten\u001b[0m)               │ (\u001b[38;5;45mNone\u001b[0m, \u001b[38;5;34m480\u001b[0m)            │             \u001b[38;5;34m0\u001b[0m │\n",
       "├─────────────────────────────────┼────────────────────────┼───────────────┤\n",
       "│ dense (\u001b[38;5;33mDense\u001b[0m)                   │ (\u001b[38;5;45mNone\u001b[0m, \u001b[38;5;34m500\u001b[0m)            │       \u001b[38;5;34m240,500\u001b[0m │\n",
       "├─────────────────────────────────┼────────────────────────┼───────────────┤\n",
       "│ dropout_1 (\u001b[38;5;33mDropout\u001b[0m)             │ (\u001b[38;5;45mNone\u001b[0m, \u001b[38;5;34m500\u001b[0m)            │             \u001b[38;5;34m0\u001b[0m │\n",
       "├─────────────────────────────────┼────────────────────────┼───────────────┤\n",
       "│ dense_1 (\u001b[38;5;33mDense\u001b[0m)                 │ (\u001b[38;5;45mNone\u001b[0m, \u001b[38;5;34m43\u001b[0m)             │        \u001b[38;5;34m21,543\u001b[0m │\n",
       "└─────────────────────────────────┴────────────────────────┴───────────────┘\n"
      ]
     },
     "metadata": {},
     "output_type": "display_data"
    },
    {
     "data": {
      "text/html": [
       "<pre style=\"white-space:pre;overflow-x:auto;line-height:normal;font-family:Menlo,'DejaVu Sans Mono',consolas,'Courier New',monospace\"><span style=\"font-weight: bold\"> Total params: </span><span style=\"color: #00af00; text-decoration-color: #00af00\">378,023</span> (1.44 MB)\n",
       "</pre>\n"
      ],
      "text/plain": [
       "\u001b[1m Total params: \u001b[0m\u001b[38;5;34m378,023\u001b[0m (1.44 MB)\n"
      ]
     },
     "metadata": {},
     "output_type": "display_data"
    },
    {
     "data": {
      "text/html": [
       "<pre style=\"white-space:pre;overflow-x:auto;line-height:normal;font-family:Menlo,'DejaVu Sans Mono',consolas,'Courier New',monospace\"><span style=\"font-weight: bold\"> Trainable params: </span><span style=\"color: #00af00; text-decoration-color: #00af00\">378,023</span> (1.44 MB)\n",
       "</pre>\n"
      ],
      "text/plain": [
       "\u001b[1m Trainable params: \u001b[0m\u001b[38;5;34m378,023\u001b[0m (1.44 MB)\n"
      ]
     },
     "metadata": {},
     "output_type": "display_data"
    },
    {
     "data": {
      "text/html": [
       "<pre style=\"white-space:pre;overflow-x:auto;line-height:normal;font-family:Menlo,'DejaVu Sans Mono',consolas,'Courier New',monospace\"><span style=\"font-weight: bold\"> Non-trainable params: </span><span style=\"color: #00af00; text-decoration-color: #00af00\">0</span> (0.00 B)\n",
       "</pre>\n"
      ],
      "text/plain": [
       "\u001b[1m Non-trainable params: \u001b[0m\u001b[38;5;34m0\u001b[0m (0.00 B)\n"
      ]
     },
     "metadata": {},
     "output_type": "display_data"
    },
    {
     "name": "stdout",
     "output_type": "stream",
     "text": [
      "None\n",
      "Epoch 1/10\n"
     ]
    },
    {
     "name": "stderr",
     "output_type": "stream",
     "text": [
      "c:\\Users\\BABAR\\AppData\\Local\\Programs\\Python\\Python312\\Lib\\site-packages\\keras\\src\\trainers\\data_adapters\\py_dataset_adapter.py:121: UserWarning: Your `PyDataset` class should call `super().__init__(**kwargs)` in its constructor. `**kwargs` can include `workers`, `use_multiprocessing`, `max_queue_size`. Do not pass these arguments to `fit()`, as they will be ignored.\n",
      "  self._warn_if_super_not_called()\n"
     ]
    },
    {
     "name": "stdout",
     "output_type": "stream",
     "text": [
      "\u001b[1m695/695\u001b[0m \u001b[32m━━━━━━━━━━━━━━━━━━━━\u001b[0m\u001b[37m\u001b[0m \u001b[1m114s\u001b[0m 154ms/step - accuracy: 0.1723 - loss: 3.0578 - val_accuracy: 0.7656 - val_loss: 0.7548\n",
      "Epoch 2/10\n",
      "\u001b[1m  1/695\u001b[0m \u001b[37m━━━━━━━━━━━━━━━━━━━━\u001b[0m \u001b[1m1:41\u001b[0m 147ms/step - accuracy: 0.5938 - loss: 1.7286"
     ]
    },
    {
     "name": "stderr",
     "output_type": "stream",
     "text": [
      "c:\\Users\\BABAR\\AppData\\Local\\Programs\\Python\\Python312\\Lib\\site-packages\\keras\\src\\trainers\\epoch_iterator.py:107: UserWarning: Your input ran out of data; interrupting training. Make sure that your dataset or generator can generate at least `steps_per_epoch * epochs` batches. You may need to use the `.repeat()` function when building your dataset.\n",
      "  self._interrupted_warning()\n"
     ]
    },
    {
     "name": "stdout",
     "output_type": "stream",
     "text": [
      "\u001b[1m695/695\u001b[0m \u001b[32m━━━━━━━━━━━━━━━━━━━━\u001b[0m\u001b[37m\u001b[0m \u001b[1m6s\u001b[0m 8ms/step - accuracy: 0.5938 - loss: 1.7286 - val_accuracy: 0.7696 - val_loss: 0.7635\n",
      "Epoch 3/10\n",
      "\u001b[1m695/695\u001b[0m \u001b[32m━━━━━━━━━━━━━━━━━━━━\u001b[0m\u001b[37m\u001b[0m \u001b[1m103s\u001b[0m 148ms/step - accuracy: 0.6018 - loss: 1.2902 - val_accuracy: 0.9318 - val_loss: 0.2929\n",
      "Epoch 4/10\n",
      "\u001b[1m695/695\u001b[0m \u001b[32m━━━━━━━━━━━━━━━━━━━━\u001b[0m\u001b[37m\u001b[0m \u001b[1m6s\u001b[0m 8ms/step - accuracy: 0.6875 - loss: 1.1744 - val_accuracy: 0.9307 - val_loss: 0.3226\n",
      "Epoch 5/10\n",
      "\u001b[1m695/695\u001b[0m \u001b[32m━━━━━━━━━━━━━━━━━━━━\u001b[0m\u001b[37m\u001b[0m \u001b[1m114s\u001b[0m 163ms/step - accuracy: 0.7474 - loss: 0.8171 - val_accuracy: 0.9574 - val_loss: 0.1636\n",
      "Epoch 6/10\n",
      "\u001b[1m695/695\u001b[0m \u001b[32m━━━━━━━━━━━━━━━━━━━━\u001b[0m\u001b[37m\u001b[0m \u001b[1m6s\u001b[0m 9ms/step - accuracy: 0.8438 - loss: 0.6667 - val_accuracy: 0.9578 - val_loss: 0.1575\n",
      "Epoch 7/10\n",
      "\u001b[1m695/695\u001b[0m \u001b[32m━━━━━━━━━━━━━━━━━━━━\u001b[0m\u001b[37m\u001b[0m \u001b[1m99s\u001b[0m 143ms/step - accuracy: 0.8059 - loss: 0.6343 - val_accuracy: 0.9567 - val_loss: 0.1444\n",
      "Epoch 8/10\n",
      "\u001b[1m695/695\u001b[0m \u001b[32m━━━━━━━━━━━━━━━━━━━━\u001b[0m\u001b[37m\u001b[0m \u001b[1m5s\u001b[0m 8ms/step - accuracy: 0.7500 - loss: 0.7462 - val_accuracy: 0.9626 - val_loss: 0.1356\n",
      "Epoch 9/10\n",
      "\u001b[1m695/695\u001b[0m \u001b[32m━━━━━━━━━━━━━━━━━━━━\u001b[0m\u001b[37m\u001b[0m \u001b[1m91s\u001b[0m 130ms/step - accuracy: 0.8399 - loss: 0.5115 - val_accuracy: 0.9616 - val_loss: 0.1325\n",
      "Epoch 10/10\n",
      "\u001b[1m695/695\u001b[0m \u001b[32m━━━━━━━━━━━━━━━━━━━━\u001b[0m\u001b[37m\u001b[0m \u001b[1m5s\u001b[0m 7ms/step - accuracy: 0.7812 - loss: 1.0221 - val_accuracy: 0.9664 - val_loss: 0.1193\n"
     ]
    }
   ],
   "source": [
    "# Create an instance of the model defined in the myModel function\n",
    "model = myModel()\n",
    "# Print the summary of the model architecture, including layer types, output shapes, and number of parameters\n",
    "print(model.summary())\n",
    "# Train the model using the fit method\n",
    "# The training data is generated using the data generator with data augmentation\n",
    "history = model.fit(\n",
    "    dataGen.flow(X_train, y_train, batch_size=32),  # Generate batches of augmented training data\n",
    "    steps_per_epoch=len(X_train) // 32,  # Number of steps to complete one epoch\n",
    "    epochs=epochs_val,  # Number of epochs to train the model\n",
    "    validation_data=(X_validation, y_validation),  # Validation data to evaluate the model during training\n",
    "    shuffle=1  # Shuffle the training data before each epoch\n",
    ")"
   ]
  },
  {
   "cell_type": "code",
   "execution_count": null,
   "metadata": {},
   "outputs": [
    {
     "data": {
      "image/png": "[encoded data removed]",
      "text/plain": [
       "<Figure size 640x480 with 1 Axes>"
      ]
     },
     "metadata": {},
     "output_type": "display_data"
    },
    {
     "data": {
      "image/png": "[encoded data removed]",
      "text/plain": [
       "<Figure size 640x480 with 1 Axes>"
      ]
     },
     "metadata": {},
     "output_type": "display_data"
    }
   ],
   "source": [
    "# Create a new figure for plotting the loss\n",
    "plt.figure(1)\n",
    "# Plot the training loss over epochs\n",
    "plt.plot(history.history['loss'])\n",
    "# Plot the validation loss over epochs\n",
    "plt.plot(history.history['val_loss'])\n",
    "# Add a legend to differentiate between training and validation loss\n",
    "plt.legend(['training', 'validation'])\n",
    "# Set the title of the plot\n",
    "plt.title('Loss')\n",
    "# Label the x-axis as 'epoch'\n",
    "plt.xlabel('epoch')\n",
    "# Create a new figure for plotting the accuracy\n",
    "plt.figure(2)\n",
    "# Plot the training accuracy over epochs\n",
    "plt.plot(history.history['accuracy'])\n",
    "# Plot the validation accuracy over epochs\n",
    "plt.plot(history.history['val_accuracy'])\n",
    "# Add a legend to differentiate between training and validation accuracy\n",
    "plt.legend(['training', 'validation'])\n",
    "# Set the title of the plot\n",
    "plt.title('Accuracy')\n",
    "# Label the x-axis as 'epoch'\n",
    "plt.xlabel('epoch')\n",
    "# Display the plots\n",
    "plt.show()"
   ]
  },
  {
   "cell_type": "code",
   "execution_count": null,
   "metadata": {},
   "outputs": [
    {
     "name": "stdout",
     "output_type": "stream",
     "text": [
      "Test Score: 0.12101157754659653\n",
      "Test Accuracy: 0.9643678069114685\n"
     ]
    }
   ],
   "source": [
    "# Evaluate the model on the test dataset\n",
    "# The evaluate method returns the loss value and metrics specified during model compilation\n",
    "score = model.evaluate(X_test, y_test, verbose=0)\n",
    "# Print the test score (loss) from the evaluation\n",
    "print('Test Score:', score[0])\n",
    "# Print the test accuracy from the evaluation\n",
    "print('Test Accuracy:', score[1])"
   ]
  },
  {
   "cell_type": "code",
   "execution_count": null,
   "metadata": {},
   "outputs": [
    {
     "name": "stderr",
     "output_type": "stream",
     "text": [
      "WARNING:absl:You are saving your model as an HDF5 file via `model.save()` or `keras.saving.save_model(model)`. This file format is considered legacy. We recommend using instead the native Keras format, e.g. `model.save('my_model.keras')` or `keras.saving.save_model(model, 'my_model.keras')`. \n",
      "WARNING:absl:Compiled the loaded model, but the compiled metrics have yet to be built. `model.compile_metrics` will be empty until you train or evaluate the model.\n"
     ]
    }
   ],
   "source": [
    "# Save the model\n",
    "model.save('model.keras') \n",
    "model.save('model.h5')\n",
    "# Load the model\n",
    "loaded_model = load_model('model.h5')"
   ]
  },
  {
   "cell_type": "code",
   "execution_count": null,
   "metadata": {},
   "outputs": [],
   "source": [
    "def predict_image(image_path,model,image_dimensions=(32, 32)):\n",
    "    # Load the image\n",
    "    img = cv2.imread(image_path)\n",
    "    if img is None:\n",
    "        raise ValueError(f\"Image at path '{image_path}' not found.\")\n",
    "    # Preprocess the image\n",
    "    img = cv2.resize(img, (image_dimensions[0], image_dimensions[1]))\n",
    "    img = cv2.cvtColor(img, cv2.COLOR_BGR2GRAY)  # Convert to grayscale\n",
    "    img = cv2.equalizeHist(img)  # Equalize\n",
    "    img = img / 255.0           # Normalize pixel values\n",
    "    img = img.reshape(1, image_dimensions[0], image_dimensions[1], 1)  # Add batch dimension\n",
    "    # Predict using the model\n",
    "    prediction = model.predict(img)\n",
    "    predicted_class = np.argmax(prediction)  # Get the class with the highest probability\n",
    "    df =pd.read_csv('labels.csv')\n",
    "    Sign = df.iloc[predicted_class,1]\n",
    "    result = f\"The Traffic-Sign in the Image States That: \\n{Sign}\"\n",
    "    print (result)\n"
   ]
  },
  {
   "cell_type": "code",
   "execution_count": null,
   "metadata": {},
   "outputs": [
    {
     "name": "stdout",
     "output_type": "stream",
     "text": [
      "\u001b[1m1/1\u001b[0m \u001b[32m━━━━━━━━━━━━━━━━━━━━\u001b[0m\u001b[37m\u001b[0m \u001b[1m0s\u001b[0m 239ms/step\n",
      "The Traffic-Sign in the Image States That: \n",
      "Stop\n"
     ]
    }
   ],
   "source": [
    "#Predicting a new image\n",
    "path = \"C:/Users/BABAR/Desktop/Traffic Signs Recognition/images.png\"\n",
    "predict_image(path,loaded_model)\n",
    "\n"
   ]
  },
  {
   "cell_type": "code",
   "execution_count": null,
   "metadata": {},
   "outputs": [],
   "source": []
  },
  {
   "cell_type": "code",
   "execution_count": null,
   "metadata": {},
   "outputs": [],
   "source": []
  }
 ],
 "metadata": {
  "kernelspec": {
   "display_name": "Python 3 (ipykernel)",
   "language": "python",
   "name": "python3"
  },
  "language_info": {
   "codemirror_mode": {
    "name": "ipython",
    "version": 3
   },
   "file_extension": ".py",
   "mimetype": "text/x-python",
   "name": "python",
   "nbconvert_exporter": "python",
   "pygments_lexer": "ipython3",
   "version": "3.11.5"
  }
 },
 "nbformat": 4,
 "nbformat_minor": 2
}
