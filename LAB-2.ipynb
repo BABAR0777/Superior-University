{
 "cells": [
  {
   "cell_type": "code",
   "execution_count": 2,
   "id": "b8314096-cb22-4dda-afeb-e4f11ff9ab20",
   "metadata": {},
   "outputs": [
    {
     "name": "stdout",
     "output_type": "stream",
     "text": [
      "The value is : 28\n",
      "Answer is correct\n"
     ]
    }
   ],
   "source": [
    "# MiniProject No.1\n",
    "import random\n",
    "def fizzbuzz(value):\n",
    "    if value % 3 == 0 and value % 5 == 0:\n",
    "        correct_ans = \"fizzbuzz\"\n",
    "    elif value % 3 == 0:\n",
    "        correct_ans = 'fizz'\n",
    "    elif value % 5 == 0:\n",
    "        correct_ans = \"buzz\"\n",
    "    else:\n",
    "        correct_ans = \"neither\"\n",
    "    print(\"The value is :\", value)\n",
    "    ans:str = (input(\"Enter your answer\")).lower()\n",
    "    if ans == correct_ans:\n",
    "        print(\"Answer is correct\")\n",
    "    else:\n",
    "        print(\"Wrong Answer\")\n",
    "\n",
    "val = random.randint(1,100)\n",
    "fizzbuzz(val)"
   ]
  },
  {
   "cell_type": "code",
   "execution_count": 3,
   "id": "ff30a857",
   "metadata": {},
   "outputs": [
    {
     "name": "stdout",
     "output_type": "stream",
     "text": [
      "Average budget: 190500000.0\n",
      "Movies with budgets higher than the average:\n",
      "Dangal: $188500000.0 higher than average\n",
      "PK: $174500000.0 higher than average\n",
      "Bajirao Mastani: $165500000.0 higher than average\n",
      "3 Idiots: $9500000.0 higher than average\n",
      "4 movies spent more than the average.\n"
     ]
    }
   ],
   "source": [
    "# MiniProject No.2\n",
    "movies = [\n",
    "    (\"Dilwale Dulhania Le Jayenge\", 20000000),\n",
    "    (\"Lagaan\", 9000000),\n",
    "    (\"Taare Zameen Par\", 4500000),\n",
    "    (\"Dangal\", 379000000),\n",
    "    (\"PK\", 365000000),\n",
    "    (\"Bajirao Mastani\", 356000000),\n",
    "    (\"3 Idiots\", 200000000)\n",
    "]\n",
    "\n",
    "add_more = input(\"Do you want to add more movies? (yes/no): \")\n",
    "\n",
    "if add_more.lower() == \"yes\":\n",
    "    num_movies_to_add = int(input(\"How many movies do you want to add? \"))\n",
    "\n",
    "    for i in range(num_movies_to_add):\n",
    "        movie_name = input(\"Enter the movie name: \")\n",
    "        movie_budget = int(input(\"Enter the movie budget: \"))\n",
    "        movies.append((movie_name, movie_budget))\n",
    "\n",
    "total_budget = sum(budget for _, budget in movies)\n",
    "num_movies = len(movies)\n",
    "average_budget = total_budget / num_movies\n",
    "\n",
    "high_budget_movies = []\n",
    "for movie_name, movie_budget in movies:\n",
    "    if movie_budget > average_budget:\n",
    "        difference = movie_budget - average_budget\n",
    "        high_budget_movies.append((movie_name, difference))\n",
    "\n",
    "print(\"Average budget:\", average_budget)\n",
    "print(\"Movies with budgets higher than the average:\")\n",
    "for movie_name, difference in high_budget_movies:\n",
    "    print(f\"{movie_name}: ${difference} higher than average\")\n",
    "\n",
    "print(f\"{len(high_budget_movies)} movies spent more than the average.\")"
   ]
  },
  {
   "cell_type": "code",
   "execution_count": null,
   "id": "dc542ad3-9eaa-45de-8107-6d792f90b62d",
   "metadata": {},
   "outputs": [],
   "source": []
  },
  {
   "cell_type": "code",
   "execution_count": null,
   "id": "ed6ad544",
   "metadata": {},
   "outputs": [],
   "source": []
  }
 ],
 "metadata": {
  "kernelspec": {
   "display_name": "Python 3 (ipykernel)",
   "language": "python",
   "name": "python3"
  },
  "language_info": {
   "codemirror_mode": {
    "name": "ipython",
    "version": 3
   },
   "file_extension": ".py",
   "mimetype": "text/x-python",
   "name": "python",
   "nbconvert_exporter": "python",
   "pygments_lexer": "ipython3",
   "version": "3.12.5"
  }
 },
 "nbformat": 4,
 "nbformat_minor": 5
}
