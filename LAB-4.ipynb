{
 "cells": [
  {
   "cell_type": "code",
   "execution_count": 68,
   "metadata": {},
   "outputs": [
    {
     "name": "stdout",
     "output_type": "stream",
     "text": [
      "30\n",
      "Master Card is Valid\n"
     ]
    }
   ],
   "source": [
    "# TASK_1\n",
    "# To check the validity of visacard\n",
    "class VisaCard:\n",
    "    def __init__(self,card_num) :\n",
    "        self.card_num =  card_num\n",
    "\n",
    "    def validation_algo(self):\n",
    "        self.last_value = self.card_num[-1]\n",
    "        self.card_num.pop()\n",
    "\n",
    "    def reverse(self):\n",
    "        self.reversed = []\n",
    "        for i in self.card_num[15::-1]:\n",
    "            self.reversed.append(i)\n",
    "\n",
    "    def double_even_index(self):\n",
    "        self.doubled_even = []\n",
    "        for j in range(len(self.card_num)):\n",
    "            if j % 2 == 0:\n",
    "                self.x = self.reversed[j]\n",
    "                self.y = int(self.x * 2)\n",
    "                self.doubled_even.append(self.y)\n",
    "            else:\n",
    "                self.z = self.reversed[j]\n",
    "                self.doubled_even.append(self.z)\n",
    "\n",
    "    def append_last_value(self):\n",
    "        self.doubled_even.append(self.last_value)\n",
    "\n",
    "    def minus_by_9(self):\n",
    "        self.Dosri_list = []\n",
    "        for i in range (len(self.doubled_even)):\n",
    "            if self.doubled_even[i] > 9:\n",
    "                self.var1  = self.doubled_even[i]\n",
    "                self.var2 = self.var1 - 9\n",
    "                self.Dosri_list.append(self.var2)\n",
    "            else:\n",
    "                self.var3 = self.doubled_even[i]\n",
    "                self.Dosri_list.append(self.var3)\n",
    "\n",
    "\n",
    "    def WholeSum(self):\n",
    "        self.sum = 0\n",
    "        for k in self.Dosri_list:\n",
    "            self.sum += k\n",
    "        print(self.sum)\n",
    "\n",
    "        if self.sum % 10 == 0:\n",
    "            print(\"Master Card is Valid\")\n",
    "        else:\n",
    "            print(\"Master Card is Fake\")\n",
    "\n",
    "    def is_valid(self):\n",
    "        card1.validation_algo()\n",
    "        card1.reverse()\n",
    "        card1.double_even_index()\n",
    "        card1.append_last_value()\n",
    "        card1.minus_by_9()\n",
    "        card1.WholeSum()\n",
    "\n",
    "num=[4,1,1,1,1,1,1,1,1,1,1,1,1,1,1,1]\n",
    "card1=VisaCard(num)\n",
    "card1.is_valid()\n",
    "\n",
    "\n",
    "\n",
    "\n",
    "\n",
    "\n",
    "\n"
   ]
  },
  {
   "cell_type": "code",
   "execution_count": 1,
   "metadata": {},
   "outputs": [
    {
     "name": "stdout",
     "output_type": "stream",
     "text": [
      "jyfjyf4\n"
     ]
    }
   ],
   "source": [
    "# TASK_2\n",
    "# To remove the punctuation\n",
    "special_char = \"!@#$%^&*()|:?><';.,|[]\"\n",
    "# string = (\"@Hello I* am Here\")\n",
    "string : str = input(\"Enter the string\")\n",
    "updated_string = []\n",
    "for i in string:\n",
    "    if i not in special_char:\n",
    "        updated_string.append(i)\n",
    "print(\"\".join(updated_string))"
   ]
  },
  {
   "cell_type": "code",
   "execution_count": 9,
   "metadata": {},
   "outputs": [
    {
     "data": {
      "text/plain": [
       "['a', 'e', 'e', 'g', 'n', 'o', 'p', 'r', 's', 's', 'x', 'x', 'y']"
      ]
     },
     "execution_count": 9,
     "metadata": {},
     "output_type": "execute_result"
    }
   ],
   "source": [
    "# Task 3\n",
    "def sort_words(text):\n",
    "\n",
    "    words = list(text)\n",
    "    sorted_words = []\n",
    "    while words:\n",
    "        min_word = words[0]\n",
    "        min_index = 0\n",
    "        for i in range(1, len(words)):\n",
    "            if words[i] < min_word:\n",
    "                min_word = words[i]\n",
    "                min_index = i\n",
    "        sorted_words.append(min_word)\n",
    "        words.pop(min_index)\n",
    "    return sorted_words\n",
    "text = \"noprxessaygex\"\n",
    "sort_words(text)"
   ]
  },
  {
   "cell_type": "code",
   "execution_count": null,
   "metadata": {},
   "outputs": [],
   "source": []
  }
 ],
 "metadata": {
  "kernelspec": {
   "display_name": "Python 3",
   "language": "python",
   "name": "python3"
  },
  "language_info": {
   "codemirror_mode": {
    "name": "ipython",
    "version": 3
   },
   "file_extension": ".py",
   "mimetype": "text/x-python",
   "name": "python",
   "nbconvert_exporter": "python",
   "pygments_lexer": "ipython3",
   "version": "3.12.5"
  }
 },
 "nbformat": 4,
 "nbformat_minor": 2
}
